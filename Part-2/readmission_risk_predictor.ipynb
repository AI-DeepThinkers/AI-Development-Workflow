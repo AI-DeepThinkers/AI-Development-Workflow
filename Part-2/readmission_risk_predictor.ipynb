{
 "cells": [
  {
   "cell_type": "markdown",
   "id": "dc1ec202",
   "metadata": {},
   "source": [
    "## 1. Problem Scope\n",
    "\n",
    "### Problem:\n",
    "The hospital wants to predict whether a patient will be readmitted within 30 days of discharge using patient data.\n",
    "\n",
    "### Objective:\n",
    "Develop an AI-based predictive model to identify high-risk patients, enabling proactive care and reducing hospital readmission rates.\n",
    "\n",
    "### Stakeholders:\n",
    "- **Hospital Administrators**: Reduce costs and penalties associated with high readmission.\n",
    "- **Medical Staff**: Identify patients requiring additional post-discharge care.\n",
    "- **Data Scientists/AI Team**: Build, validate, and monitor the predictive model.\n",
    "- **IT Department**: Integrate the model into the existing hospital systems.\n",
    "- **Patients**: Receive better care through targeted follow-up.\n"
   ]
  },
  {
   "cell_type": "markdown",
   "id": "145f288e",
   "metadata": {},
   "source": [
    "## 2. Data Strategy\n",
    "\n",
    "### Data Sources:\n",
    "- **Electronic Health Records (EHRs)**: Includes clinical notes, discharge summaries, lab results.\n",
    "- **Demographic Data**: Age, gender, race/ethnicity.\n",
    "- **Medical History**: Past admissions, diagnoses, and medication use.\n",
    "- **Vitals and Lab Results**: Blood pressure, cholesterol levels, etc.\n",
    "\n",
    "### Ethical Concerns:\n",
    "1. **Patient Privacy**: All data must be anonymized or de-identified in compliance with HIPAA.\n",
    "2. **Algorithmic Bias**: Care must be taken to ensure the model performs fairly across different demographic groups (e.g., race, gender).\n",
    "\n",
    "### Preprocessing Pipeline:\n",
    "Steps:\n",
    "- Handle missing values\n",
    "- One-hot encode categorical variables\n",
    "- Normalize numerical features\n"
   ]
  },
  {
   "cell_type": "code",
   "execution_count": 32,
   "id": "0c40ac32",
   "metadata": {
    "lines_to_next_cell": 1
   },
   "outputs": [],
   "source": [
    "# ------------------------------\n",
    "# Preprocessing Pipeline\n",
    "# ------------------------------\n",
    "import pandas as pd\n",
    "import numpy as np\n",
    "from sklearn.preprocessing import StandardScaler\n",
    "\n",
    "def preprocess_data(df):\n",
    "    # Impute missing values for numerical columns\n",
    "    for col in ['age', 'blood_pressure', 'cholesterol']:\n",
    "        df[col] = df[col].fillna(df[col].median())\n",
    "    # One-hot encode categorical variables\n",
    "    df = pd.get_dummies(df, columns=['gender', 'race'])\n",
    "    # Normalize numerical features\n",
    "    scaler = StandardScaler()\n",
    "    df[['age', 'blood_pressure', 'cholesterol']] = scaler.fit_transform(df[['age', 'blood_pressure', 'cholesterol']])\n",
    "    return df"
   ]
  },
  {
   "cell_type": "markdown",
   "id": "f5223c4c",
   "metadata": {},
   "source": [
    "## 3. Model Development\n",
    "\n",
    "### Model Selection:\n",
    "- **Model Used**: Random Forest Classifier\n",
    "- **Why?**\n",
    "  - Works well with mixed-type data\n",
    "  - Handles nonlinear relationships\n",
    "  - Low risk of overfitting when properly tuned\n",
    "\n",
    "We’ll now simulate a dataset and walk through model training and evaluation."
   ]
  },
  {
   "cell_type": "code",
   "execution_count": 33,
   "id": "55b35ddb",
   "metadata": {},
   "outputs": [],
   "source": [
    "# ------------------------------\n",
    "# Create Hypothetical Dataset\n",
    "# ------------------------------\n",
    "np.random.seed(42)\n",
    "data = pd.DataFrame({\n",
    "    'age': np.random.randint(20, 80, 100),\n",
    "    'gender': np.random.choice(['Male', 'Female'], 100),\n",
    "    'race': np.random.choice(['White', 'Black', 'Asian'], 100),\n",
    "    'blood_pressure': np.random.randint(90, 180, 100),\n",
    "    'cholesterol': np.random.randint(150, 300, 100),\n",
    "    'readmitted': np.random.choice([0, 1], 100)\n",
    "})"
   ]
  },
  {
   "cell_type": "code",
   "execution_count": 34,
   "id": "3e1c5408",
   "metadata": {},
   "outputs": [],
   "source": [
    "# ------------------------------\n",
    "# Preprocess and Split\n",
    "# ------------------------------\n",
    "from sklearn.model_selection import train_test_split\n",
    "\n",
    "data = preprocess_data(data)\n",
    "X = data.drop('readmitted', axis=1)\n",
    "y = data['readmitted']\n",
    "X_train, X_test, y_train, y_test = train_test_split(X, y, test_size=0.2, random_state=42, stratify=y)"
   ]
  },
  {
   "cell_type": "code",
   "execution_count": 35,
   "id": "f5b5dfb4",
   "metadata": {},
   "outputs": [],
   "source": [
    "# ------------------------------\n",
    "# Train Model\n",
    "# ------------------------------\n",
    "from sklearn.ensemble import RandomForestClassifier\n",
    "\n",
    "model = RandomForestClassifier(random_state=42)\n",
    "model.fit(X_train, y_train)\n",
    "y_pred = model.predict(X_test)"
   ]
  },
  {
   "cell_type": "markdown",
   "id": "2f747431",
   "metadata": {},
   "source": [
    "### 📊 Confusion Matrix Visualization\n",
    "\n",
    "Below, we evaluate the model’s performance using standard classification metrics and visualize the confusion matrix in two ways:\n",
    "\n",
    "- **Sklearn’s ConfusionMatrixDisplay**: A built-in, clean visualization.\n",
    "- **Seaborn Heatmap**: More customizable and visually appealing for presentations or reports.\n",
    "\n",
    "These visualizations help quickly understand:\n",
    "- True Positives (TP)\n",
    "- True Negatives (TN)\n",
    "- False Positives (FP)\n",
    "- False Negatives (FN)\n",
    "\n",
    "They are especially helpful when communicating model effectiveness to clinical or administrative teams.\n"
   ]
  },
  {
   "cell_type": "code",
   "execution_count": 36,
   "id": "830ca61f",
   "metadata": {},
   "outputs": [
    {
     "name": "stdout",
     "output_type": "stream",
     "text": [
      "Confusion Matrix:\n",
      " [[6 3]\n",
      " [6 5]]\n",
      "Precision: 0.625\n",
      "Recall: 0.45454545454545453\n",
      "F1 Score: 0.5263157894736842\n",
      "ROC-AUC: 0.5606060606060607\n"
     ]
    },
    {
     "data": {
      "image/png": "[encoded data removed]",
      "text/plain": [
       "<Figure size 640x480 with 2 Axes>"
      ]
     },
     "metadata": {},
     "output_type": "display_data"
    }
   ],
   "source": [
    "# ------------------------------\n",
    "# Evaluate Model\n",
    "# ------------------------------\n",
    "from sklearn.metrics import confusion_matrix, precision_score, recall_score, f1_score, roc_auc_score, ConfusionMatrixDisplay\n",
    "\n",
    "cm = confusion_matrix(y_test, y_pred)\n",
    "precision = precision_score(y_test, y_pred)\n",
    "recall = recall_score(y_test, y_pred)\n",
    "f1 = f1_score(y_test, y_pred)\n",
    "roc_auc = roc_auc_score(y_test, y_pred)\n",
    "\n",
    "print(\"Confusion Matrix:\\n\", cm)\n",
    "print(\"Precision:\", precision)\n",
    "print(\"Recall:\", recall)\n",
    "print(\"F1 Score:\", f1)\n",
    "print(\"ROC-AUC:\", roc_auc)\n",
    "\n",
    "# ------------------------------\n",
    "# Visualize Confusion Matrix\n",
    "# ------------------------------\n",
    "import matplotlib.pyplot as plt\n",
    "import seaborn as sns\n",
    "\n",
    "# Sklearn's built-in display\n",
    "disp = ConfusionMatrixDisplay(confusion_matrix=cm, display_labels=['No Readmit', 'Readmit'])\n",
    "disp.plot(cmap=plt.cm.Blues)\n",
    "plt.title(\"Confusion Matrix\")\n",
    "plt.show()\n",
    "\n",
    "# with seaborn\n",
    "# plt.figure(figsize=(6, 4))\n",
    "# sns.heatmap(cm, annot=True, fmt='d', cmap='Blues', xticklabels=['No Readmit', 'Readmit'], yticklabels=['No Readmit', 'Readmit'])\n",
    "# plt.xlabel('Predicted')\n",
    "# plt.ylabel('Actual')\n",
    "# plt.title('Confusion Matrix Heatmap')\n",
    "# plt.show()\n"
   ]
  },
  {
   "cell_type": "markdown",
   "id": "afab5377",
   "metadata": {},
   "source": [
    "## 4. Deployment\n",
    "\n",
    "## Integration Steps:\n",
    "1. **Model Packaging**: Save the trained model using joblib or pickle.\n",
    "2. **API Deployment**: Create a REST API using Flask or FastAPI.\n",
    "3. **EHR Integration**: Connect API to hospital's electronic health record (EHR) platform.\n",
    "4. **Interface Design**: Build an interface for doctors to view readmission risk.\n",
    "5. **Monitoring**: Log predictions and retrain periodically.\n",
    "\n",
    "### Regulatory Compliance:\n",
    "- **Data Encryption**: Use HTTPS, encrypt databases.\n",
    "- **Access Control**: Role-based permissions (doctor, nurse, IT).\n",
    "- **Audit Logs**: Log every access to model and prediction requests.\n",
    "- **HIPAA Compliance**: Ensure ongoing internal audits and policy enforcement.\n"
   ]
  },
  {
   "cell_type": "code",
   "execution_count": 37,
   "id": "20127f41",
   "metadata": {},
   "outputs": [],
   "source": [
    "# Example of model prediction API (Commented Out)\n",
    "# from flask import Flask, request, jsonify\n",
    "# app = Flask(__name__)\n",
    "# @app.route('/predict', methods=['POST'])\n",
    "# def predict():\n",
    "#     data = request.get_json()\n",
    "#     df = pd.DataFrame([data])\n",
    "#     df = preprocess_data(df)\n",
    "#     prediction = int(model.predict(df)[0])\n",
    "#     return jsonify({'readmission_risk': prediction})"
   ]
  },
  {
   "cell_type": "markdown",
   "id": "bc0d82b3",
   "metadata": {},
   "source": [
    "## 5. Optimization\n",
    "\n",
    "### Strategy to Reduce Overfitting:\n",
    "- **K-Fold Cross-Validation**: Evaluate model performance across multiple subsets of the data.\n",
    "- **Regularization**: Limit depth of decision trees (`max_depth`) or number of trees in the forest (`n_estimators`).\n",
    "\n",
    "Let’s test cross-validation."
   ]
  },
  {
   "cell_type": "code",
   "execution_count": 38,
   "id": "3bbdaf95",
   "metadata": {},
   "outputs": [
    {
     "name": "stdout",
     "output_type": "stream",
     "text": [
      "Cross-validation scores: [0.55 0.4  0.5  0.5  0.5 ]\n",
      "Average CV Score: 0.49000000000000005\n"
     ]
    }
   ],
   "source": [
    "# ------------------------------\n",
    "# 5. Optimization (Overfitting)\n",
    "# ------------------------------\n",
    "# Method: Cross-validation and model regularization\n",
    "from sklearn.model_selection import cross_val_score\n",
    "cv_scores = cross_val_score(model, X, y, cv=5)\n",
    "print(\"Cross-validation scores:\", cv_scores)\n",
    "print(\"Average CV Score:\", np.mean(cv_scores))"
   ]
  }
 ],
 "metadata": {
  "jupytext": {
   "cell_metadata_filter": "-all",
   "main_language": "python",
   "notebook_metadata_filter": "-all"
  },
  "kernelspec": {
   "display_name": "venv",
   "language": "python",
   "name": "python3"
  },
  "language_info": {
   "codemirror_mode": {
    "name": "ipython",
    "version": 3
   },
   "file_extension": ".py",
   "mimetype": "text/x-python",
   "name": "python",
   "nbconvert_exporter": "python",
   "pygments_lexer": "ipython3",
   "version": "3.11.0"
  }
 },
 "nbformat": 4,
 "nbformat_minor": 5
}
